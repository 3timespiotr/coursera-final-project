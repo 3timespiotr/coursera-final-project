{
  "nbformat": 4,
  "nbformat_minor": 0,
  "metadata": {
    "kernelspec": {
      "display_name": "Python 3.7",
      "language": "python",
      "name": "python3"
    },
    "language_info": {
      "codemirror_mode": {
        "name": "ipython",
        "version": 3
      },
      "file_extension": ".py",
      "mimetype": "text/x-python",
      "name": "python",
      "nbconvert_exporter": "python",
      "pygments_lexer": "ipython3",
      "version": "3.7.10"
    },
    "colab": {
      "name": "Comparing Models.ipynb",
      "provenance": [],
      "collapsed_sections": []
    },
    "accelerator": "GPU"
  },
  "cells": [
    {
      "cell_type": "markdown",
      "metadata": {
        "button": false,
        "new_sheet": false,
        "run_control": {
          "read_only": false
        },
        "id": "2b8IEzEHaQZt"
      },
      "source": [
        "<a href=\"https://cognitiveclass.ai\"><img src = \"https://s3-api.us-geo.objectstorage.softlayer.net/cf-courses-data/CognitiveClass/Logos/organization_logo/organization_logo.png\" width = 400> </a>\n",
        "\n",
        "<h1 align=center><font size = 5>Peer Review Final Assignment</font></h1>"
      ]
    },
    {
      "cell_type": "markdown",
      "metadata": {
        "button": false,
        "new_sheet": false,
        "run_control": {
          "read_only": false
        },
        "id": "Zg97S61QaQZ5"
      },
      "source": [
        "## Introduction\n"
      ]
    },
    {
      "cell_type": "markdown",
      "metadata": {
        "button": false,
        "new_sheet": false,
        "run_control": {
          "read_only": false
        },
        "id": "Y1SV42QxaQZ6"
      },
      "source": [
        "In this lab, you will build an image classifier using the VGG16 pre-trained model, and you will evaluate it and compare its performance to the model we built in the last module using the ResNet50 pre-trained model. Good luck!"
      ]
    },
    {
      "cell_type": "markdown",
      "metadata": {
        "button": false,
        "new_sheet": false,
        "run_control": {
          "read_only": false
        },
        "id": "GrIzGfQdaQZ6"
      },
      "source": [
        "## Table of Contents\n",
        "\n",
        "<div class=\"alert alert-block alert-info\" style=\"margin-top: 20px\">\n",
        "\n",
        "<font size = 3>    \n",
        "\n",
        "1. <a href=\"#item41\">Download Data \n",
        "2. <a href=\"#item42\">Part 1</a>\n",
        "3. <a href=\"#item43\">Part 2</a>  \n",
        "4. <a href=\"#item44\">Part 3</a>  \n",
        "\n",
        "</font>\n",
        "    \n",
        "</div>"
      ]
    },
    {
      "cell_type": "markdown",
      "metadata": {
        "button": false,
        "new_sheet": false,
        "run_control": {
          "read_only": false
        },
        "id": "ilzjvUblaQZ7"
      },
      "source": [
        "   "
      ]
    },
    {
      "cell_type": "markdown",
      "metadata": {
        "id": "hMB8bD0saQZ8"
      },
      "source": [
        "<a id=\"item41\"></a>"
      ]
    },
    {
      "cell_type": "markdown",
      "metadata": {
        "id": "5tO9eUnzaQZ8"
      },
      "source": [
        "## Download Data"
      ]
    },
    {
      "cell_type": "markdown",
      "metadata": {
        "id": "lbJvp7VTaQZ8"
      },
      "source": [
        "Use the <code>wget</code> command to download the data for this assignment from here: https://s3-api.us-geo.objectstorage.softlayer.net/cf-courses-data/CognitiveClass/DL0321EN/data/concrete_data_week4.zip"
      ]
    },
    {
      "cell_type": "markdown",
      "metadata": {
        "id": "ACW3Eo4MaQZ9"
      },
      "source": [
        "Use the following cells to download the data."
      ]
    },
    {
      "cell_type": "code",
      "metadata": {
        "colab": {
          "base_uri": "https://localhost:8080/"
        },
        "id": "XAO3M0BTaQZ9",
        "outputId": "ca740208-172e-48d3-ceb9-ae41025057f3"
      },
      "source": [
        "!wget https://s3-api.us-geo.objectstorage.softlayer.net/cf-courses-data/CognitiveClass/DL0321EN/data/concrete_data_week4.zip "
      ],
      "execution_count": 5,
      "outputs": [
        {
          "output_type": "stream",
          "text": [
            "--2021-04-13 13:30:30--  https://s3-api.us-geo.objectstorage.softlayer.net/cf-courses-data/CognitiveClass/DL0321EN/data/concrete_data_week4.zip\n",
            "Resolving s3-api.us-geo.objectstorage.softlayer.net (s3-api.us-geo.objectstorage.softlayer.net)... 67.228.254.196\n",
            "Connecting to s3-api.us-geo.objectstorage.softlayer.net (s3-api.us-geo.objectstorage.softlayer.net)|67.228.254.196|:443... connected.\n",
            "HTTP request sent, awaiting response... 200 OK\n",
            "Length: 261483817 (249M) [application/zip]\n",
            "Saving to: ‘concrete_data_week4.zip’\n",
            "\n",
            "concrete_data_week4 100%[===================>] 249.37M  19.8MB/s    in 14s     \n",
            "\n",
            "2021-04-13 13:30:45 (18.2 MB/s) - ‘concrete_data_week4.zip’ saved [261483817/261483817]\n",
            "\n"
          ],
          "name": "stdout"
        }
      ]
    },
    {
      "cell_type": "code",
      "metadata": {
        "id": "9M2mH8MXaQZ_"
      },
      "source": [
        "!unzip concrete_data_week4.zip"
      ],
      "execution_count": null,
      "outputs": []
    },
    {
      "cell_type": "markdown",
      "metadata": {
        "id": "aThC7fWiaQaG"
      },
      "source": [
        "After you unzip the data, you fill find the data has already been divided into a train, validation, and test sets."
      ]
    },
    {
      "cell_type": "markdown",
      "metadata": {
        "id": "jw2txdgTaQaH"
      },
      "source": [
        "  "
      ]
    },
    {
      "cell_type": "markdown",
      "metadata": {
        "button": false,
        "new_sheet": false,
        "run_control": {
          "read_only": false
        },
        "id": "fB4ahcWtaQaH"
      },
      "source": [
        "<a id=\"item42\"></a>"
      ]
    },
    {
      "cell_type": "markdown",
      "metadata": {
        "id": "__-53qGYaQaH"
      },
      "source": [
        "## Part 1"
      ]
    },
    {
      "cell_type": "markdown",
      "metadata": {
        "id": "OyCMUVkkaQaI"
      },
      "source": [
        "In this part, you will design a classifier using the VGG16 pre-trained model. Just like the ResNet50 model, you can import the model <code>VGG16</code> from <code>keras.applications</code>."
      ]
    },
    {
      "cell_type": "markdown",
      "metadata": {
        "id": "FMbYKEITaQaI"
      },
      "source": [
        "You will essentially build your classifier as follows:\n",
        "1. Import libraries, modules, and packages you will need. Make sure to import the *preprocess_input* function from <code>keras.applications.vgg16</code>.\n",
        "2. Use a batch size of 100 images for both training and validation.\n",
        "3. Construct an ImageDataGenerator for the training set and another one for the validation set. VGG16 was originally trained on 224 × 224 images, so make sure to address that when defining the ImageDataGenerator instances.\n",
        "4. Create a sequential model using Keras. Add VGG16 model to it and dense layer.\n",
        "5. Compile the mode using the adam optimizer and the categorical_crossentropy loss function.\n",
        "6. Fit the model on the augmented data using the ImageDataGenerators."
      ]
    },
    {
      "cell_type": "markdown",
      "metadata": {
        "id": "mD1_XCxxaQaJ"
      },
      "source": [
        "Use the following cells to create your classifier."
      ]
    },
    {
      "cell_type": "code",
      "metadata": {
        "id": "iCFoKqUoaQaJ"
      },
      "source": [
        "# import the libraries\n",
        "import keras\n",
        "from keras.applications.vgg16 import preprocess_input\n",
        "from keras.applications import VGG16\n",
        "from keras.preprocessing.image import ImageDataGenerator\n",
        "from keras.models import Sequential\n",
        "from keras.layers import Dense"
      ],
      "execution_count": 7,
      "outputs": []
    },
    {
      "cell_type": "code",
      "metadata": {
        "id": "cHx7l8L2aQaK"
      },
      "source": [
        "batch_size = 100\n",
        "image_resize = 224"
      ],
      "execution_count": 8,
      "outputs": []
    },
    {
      "cell_type": "code",
      "metadata": {
        "colab": {
          "base_uri": "https://localhost:8080/"
        },
        "id": "XdN9aJYYaQaK",
        "outputId": "a06bd956-2e90-43f9-ceb0-b53b72f04945"
      },
      "source": [
        "# list subfolders\n",
        "!ls concrete_data_week4"
      ],
      "execution_count": 9,
      "outputs": [
        {
          "output_type": "stream",
          "text": [
            "test  train  valid\n"
          ],
          "name": "stdout"
        }
      ]
    },
    {
      "cell_type": "code",
      "metadata": {
        "scrolled": true,
        "colab": {
          "base_uri": "https://localhost:8080/"
        },
        "id": "lsc1_XqyaQaL",
        "outputId": "d9fbb21a-b35a-497a-8ad3-da632165ec96"
      },
      "source": [
        "# create a ImageDataGenerator for training\n",
        "\n",
        "data_generator = ImageDataGenerator(preprocessing_function=preprocess_input)\n",
        "\n",
        "train_generator = data_generator.flow_from_directory(\n",
        "                        'concrete_data_week4/train',\n",
        "                        target_size=(image_resize, image_resize),\n",
        "                        batch_size=batch_size,\n",
        "                        class_mode='categorical')"
      ],
      "execution_count": 10,
      "outputs": [
        {
          "output_type": "stream",
          "text": [
            "Found 30001 images belonging to 2 classes.\n"
          ],
          "name": "stdout"
        }
      ]
    },
    {
      "cell_type": "code",
      "metadata": {
        "colab": {
          "base_uri": "https://localhost:8080/"
        },
        "id": "gmogwPznaQaL",
        "outputId": "ce8a813e-e27e-4e24-b819-0700dc1de8a7"
      },
      "source": [
        "valid_generator = data_generator.flow_from_directory(\n",
        "                        'concrete_data_week4/valid',\n",
        "                        target_size=(image_resize, image_resize),\n",
        "                        batch_size=batch_size,\n",
        "                        class_mode='categorical')"
      ],
      "execution_count": 11,
      "outputs": [
        {
          "output_type": "stream",
          "text": [
            "Found 9501 images belonging to 2 classes.\n"
          ],
          "name": "stdout"
        }
      ]
    },
    {
      "cell_type": "code",
      "metadata": {
        "id": "XfLgFU-kaQaM"
      },
      "source": [
        "# create the Sequential model\n",
        "model = Sequential()"
      ],
      "execution_count": 12,
      "outputs": []
    },
    {
      "cell_type": "code",
      "metadata": {
        "colab": {
          "base_uri": "https://localhost:8080/"
        },
        "id": "l0BNlR2DaQaM",
        "outputId": "ae693f50-c4fe-4b29-b971-440faa8181a7"
      },
      "source": [
        "# add VGG16 to the model\n",
        "model.add(VGG16(include_top=False,\n",
        "                pooling='avg',\n",
        "                weights='imagenet',\n",
        "         ))"
      ],
      "execution_count": 13,
      "outputs": [
        {
          "output_type": "stream",
          "text": [
            "Downloading data from https://storage.googleapis.com/tensorflow/keras-applications/vgg16/vgg16_weights_tf_dim_ordering_tf_kernels_notop.h5\n",
            "58892288/58889256 [==============================] - 1s 0us/step\n"
          ],
          "name": "stdout"
        }
      ]
    },
    {
      "cell_type": "code",
      "metadata": {
        "id": "bltMsw3CaQaM"
      },
      "source": [
        "# add output layer with 2 classes\n",
        "model.add(Dense(2, activation='softmax'))"
      ],
      "execution_count": 14,
      "outputs": []
    },
    {
      "cell_type": "code",
      "metadata": {
        "colab": {
          "base_uri": "https://localhost:8080/"
        },
        "id": "Hpl3uH_qaQaN",
        "outputId": "44b3f0a6-ee45-4071-e495-bef3aa98be5f"
      },
      "source": [
        "# check the layers\n",
        "print(model.layers)\n",
        "\n",
        "# num of layers of VGG16\n",
        "len(model.layers[0].layers)"
      ],
      "execution_count": 15,
      "outputs": [
        {
          "output_type": "stream",
          "text": [
            "[<tensorflow.python.keras.engine.functional.Functional object at 0x7f8770cb2710>, <tensorflow.python.keras.layers.core.Dense object at 0x7f87709a6e50>]\n"
          ],
          "name": "stdout"
        },
        {
          "output_type": "execute_result",
          "data": {
            "text/plain": [
              "20"
            ]
          },
          "metadata": {
            "tags": []
          },
          "execution_count": 15
        }
      ]
    },
    {
      "cell_type": "code",
      "metadata": {
        "id": "dwiF9nd8aQaN"
      },
      "source": [
        "# set  VGG16 as not trainable\n",
        "model.layers[0].trainable = False"
      ],
      "execution_count": 16,
      "outputs": []
    },
    {
      "cell_type": "code",
      "metadata": {
        "colab": {
          "base_uri": "https://localhost:8080/"
        },
        "id": "I0_GAxV4aQaN",
        "outputId": "30bda882-7144-4b5c-e513-57f610538f92"
      },
      "source": [
        "model.summary()"
      ],
      "execution_count": 17,
      "outputs": [
        {
          "output_type": "stream",
          "text": [
            "Model: \"sequential\"\n",
            "_________________________________________________________________\n",
            "Layer (type)                 Output Shape              Param #   \n",
            "=================================================================\n",
            "vgg16 (Functional)           (None, 512)               14714688  \n",
            "_________________________________________________________________\n",
            "dense (Dense)                (None, 2)                 1026      \n",
            "=================================================================\n",
            "Total params: 14,715,714\n",
            "Trainable params: 1,026\n",
            "Non-trainable params: 14,714,688\n",
            "_________________________________________________________________\n"
          ],
          "name": "stdout"
        }
      ]
    },
    {
      "cell_type": "code",
      "metadata": {
        "id": "DRwcN3RUaQaO"
      },
      "source": [
        "# compile the model\n",
        "model.compile(optimizer='adam',loss='categorical_crossentropy',metrics=['accuracy'])"
      ],
      "execution_count": 18,
      "outputs": []
    },
    {
      "cell_type": "code",
      "metadata": {
        "id": "cIck2aNpaQaO"
      },
      "source": [
        "# set some variables\n",
        "steps_per_epoch_training = len(train_generator)\n",
        "steps_per_epoch_validation = len(valid_generator)\n",
        "num_epochs = 2"
      ],
      "execution_count": 19,
      "outputs": []
    },
    {
      "cell_type": "code",
      "metadata": {
        "colab": {
          "base_uri": "https://localhost:8080/"
        },
        "id": "kZ_rOMXyaQaO",
        "outputId": "7edfdcda-765a-47c1-8799-8a711ace7390"
      },
      "source": [
        "# fit the model using train data\n",
        "model.fit_generator(train_generator,\n",
        "                   steps_per_epoch=steps_per_epoch_training,\n",
        "                   epochs=num_epochs,\n",
        "                   validation_data=valid_generator,\n",
        "                   validation_steps=steps_per_epoch_validation,\n",
        "                   verbose=1)"
      ],
      "execution_count": 20,
      "outputs": [
        {
          "output_type": "stream",
          "text": [
            "/usr/local/lib/python3.7/dist-packages/tensorflow/python/keras/engine/training.py:1844: UserWarning: `Model.fit_generator` is deprecated and will be removed in a future version. Please use `Model.fit`, which supports generators.\n",
            "  warnings.warn('`Model.fit_generator` is deprecated and '\n"
          ],
          "name": "stderr"
        },
        {
          "output_type": "stream",
          "text": [
            "Epoch 1/2\n",
            "301/301 [==============================] - 371s 1s/step - loss: 0.2120 - accuracy: 0.9100 - val_loss: 0.0243 - val_accuracy: 0.9947\n",
            "Epoch 2/2\n",
            "301/301 [==============================] - 312s 1s/step - loss: 0.0207 - accuracy: 0.9955 - val_loss: 0.0146 - val_accuracy: 0.9960\n"
          ],
          "name": "stdout"
        },
        {
          "output_type": "execute_result",
          "data": {
            "text/plain": [
              "<tensorflow.python.keras.callbacks.History at 0x7f8771c3f710>"
            ]
          },
          "metadata": {
            "tags": []
          },
          "execution_count": 20
        }
      ]
    },
    {
      "cell_type": "code",
      "metadata": {
        "id": "uQEqLFgcaQaP"
      },
      "source": [
        "model.save('classifier_vgg16_model.h5')"
      ],
      "execution_count": 21,
      "outputs": []
    },
    {
      "cell_type": "markdown",
      "metadata": {
        "id": "_rcOit4XaQaP"
      },
      "source": [
        "   "
      ]
    },
    {
      "cell_type": "markdown",
      "metadata": {
        "id": "ESHmCRpXaQaQ"
      },
      "source": [
        "<a id=\"item43\"></a>"
      ]
    },
    {
      "cell_type": "markdown",
      "metadata": {
        "id": "thXPzXgzaQaQ"
      },
      "source": [
        "## Part 2"
      ]
    },
    {
      "cell_type": "markdown",
      "metadata": {
        "id": "mVoV4efZaQac"
      },
      "source": [
        "In this part, you will evaluate your deep learning models on a test data. For this part, you will need to do the following:\n",
        "\n",
        "1. Load your saved model that was built using the ResNet50 model. \n",
        "2. Construct an ImageDataGenerator for the test set. For this ImageDataGenerator instance, you only need to pass the directory of the test images, target size, and the **shuffle** parameter and set it to False.\n",
        "3. Use the **evaluate_generator** method to evaluate your models on the test data, by passing the above ImageDataGenerator as an argument. You can learn more about **evaluate_generator** [here](https://keras.io/models/sequential/).\n",
        "4. Print the performance of the classifier using the VGG16 pre-trained model.\n",
        "5. Print the performance of the classifier using the ResNet pre-trained model.\n"
      ]
    },
    {
      "cell_type": "markdown",
      "metadata": {
        "id": "61s2lhwyaQac"
      },
      "source": [
        "Use the following cells to evaluate your models."
      ]
    },
    {
      "cell_type": "code",
      "metadata": {
        "id": "3WZNFL-DaQad"
      },
      "source": [
        "# load the already trained resnet model\n",
        "model_resnet = keras.models.load_model('classifier_resnet_model.h5')"
      ],
      "execution_count": 24,
      "outputs": []
    },
    {
      "cell_type": "code",
      "metadata": {
        "colab": {
          "base_uri": "https://localhost:8080/"
        },
        "id": "SiPSHQavaQae",
        "outputId": "af1244c8-11f0-4489-8e23-d4c0ecc03e66"
      },
      "source": [
        "# create ImageDataGenerator for the test set\n",
        "data_generator = ImageDataGenerator(preprocessing_function=preprocess_input)\n",
        "\n",
        "test_generator = data_generator.flow_from_directory(\n",
        "                        'concrete_data_week4/test',\n",
        "                        target_size=(image_resize, image_resize),\n",
        "                        batch_size=batch_size,\n",
        "                        class_mode='categorical',\n",
        "                        # default is shuffle=True\n",
        "                        shuffle=False)"
      ],
      "execution_count": 25,
      "outputs": [
        {
          "output_type": "stream",
          "text": [
            "Found 500 images belonging to 2 classes.\n"
          ],
          "name": "stdout"
        }
      ]
    },
    {
      "cell_type": "code",
      "metadata": {
        "colab": {
          "base_uri": "https://localhost:8080/"
        },
        "id": "iq6cIojfaQae",
        "outputId": "d4925024-b3a4-45fc-bbe6-a62becda15c4"
      },
      "source": [
        "# evaluate resnet\n",
        "results_resnet = model_resnet.evaluate(test_generator,\n",
        "                                      return_dict=True)"
      ],
      "execution_count": 27,
      "outputs": [
        {
          "output_type": "stream",
          "text": [
            "5/5 [==============================] - 4s 690ms/step - loss: 0.0015 - accuracy: 1.0000\n"
          ],
          "name": "stdout"
        }
      ]
    },
    {
      "cell_type": "code",
      "metadata": {
        "colab": {
          "base_uri": "https://localhost:8080/"
        },
        "id": "bG6Qta90aQaf",
        "outputId": "b1ca049c-cc6f-4162-860f-31f1d05de207"
      },
      "source": [
        "# print the results for resnet\n",
        "results_resnet"
      ],
      "execution_count": 28,
      "outputs": [
        {
          "output_type": "execute_result",
          "data": {
            "text/plain": [
              "{'accuracy': 1.0, 'loss': 0.0015223603695631027}"
            ]
          },
          "metadata": {
            "tags": []
          },
          "execution_count": 28
        }
      ]
    },
    {
      "cell_type": "code",
      "metadata": {
        "colab": {
          "base_uri": "https://localhost:8080/"
        },
        "id": "68h6KflHhY-s",
        "outputId": "59f12a77-b311-49c8-b524-364790a84d37"
      },
      "source": [
        "# evaluate VGG16\n",
        "results_vgg16 = model.evaluate(test_generator,\n",
        "                               return_dict=True)"
      ],
      "execution_count": 29,
      "outputs": [
        {
          "output_type": "stream",
          "text": [
            "5/5 [==============================] - 4s 805ms/step - loss: 0.0113 - accuracy: 0.9980\n"
          ],
          "name": "stdout"
        }
      ]
    },
    {
      "cell_type": "code",
      "metadata": {
        "colab": {
          "base_uri": "https://localhost:8080/"
        },
        "id": "EYb_PDFFhZI0",
        "outputId": "79c5d6d5-1ddc-419e-a47c-9c0b81faba2e"
      },
      "source": [
        "# print the results for VGG16\n",
        "results_vgg16"
      ],
      "execution_count": 30,
      "outputs": [
        {
          "output_type": "execute_result",
          "data": {
            "text/plain": [
              "{'accuracy': 0.9980000257492065, 'loss': 0.011345524340867996}"
            ]
          },
          "metadata": {
            "tags": []
          },
          "execution_count": 30
        }
      ]
    },
    {
      "cell_type": "markdown",
      "metadata": {
        "id": "wboE38tBaQag"
      },
      "source": [
        "   "
      ]
    },
    {
      "cell_type": "markdown",
      "metadata": {
        "id": "F7_N_vcxaQag"
      },
      "source": [
        "<a id=\"item44\"></a>"
      ]
    },
    {
      "cell_type": "markdown",
      "metadata": {
        "id": "UDVYK5hoaQah"
      },
      "source": [
        "## Part 3"
      ]
    },
    {
      "cell_type": "markdown",
      "metadata": {
        "id": "VLWN9lGFaQah"
      },
      "source": [
        "In this part, you will predict whether the images in the test data are images of cracked concrete or not. You will do the following:\n",
        "\n",
        "1. Use the **predict_generator** method to predict the class of the images in the test data, by passing the test data ImageDataGenerator instance defined in the previous part as an argument. You can learn more about the **predict_generator** method [here](https://keras.io/models/sequential/).\n",
        "2. Report the class predictions of the first five images in the test set. You should print something list this:\n",
        "\n",
        "    <ul style=\"list-style-type:none\">\n",
        "        <li>Positive</li>  \n",
        "        <li>Negative</li> \n",
        "        <li>Positive</li>\n",
        "        <li>Positive</li>\n",
        "        <li>Negative</li>\n",
        "    </ul>"
      ]
    },
    {
      "cell_type": "markdown",
      "metadata": {
        "id": "T9_i0Sf1aQai"
      },
      "source": [
        "Use the following cells to make your predictions."
      ]
    },
    {
      "cell_type": "code",
      "metadata": {
        "id": "0hPjI9tlaQak"
      },
      "source": [
        "# calculate predictions with both models\n",
        "resnet_pred = model_resnet.predict(test_generator)\n",
        "vgg16_pred = model.predict(test_generator)"
      ],
      "execution_count": 36,
      "outputs": []
    },
    {
      "cell_type": "code",
      "metadata": {
        "colab": {
          "base_uri": "https://localhost:8080/"
        },
        "id": "EhWZotGFaQak",
        "outputId": "f7e68a5f-292d-4479-f554-9d09507b7c77"
      },
      "source": [
        "# check output type and length\n",
        "print('type: ', type(resnet_pred))\n",
        "print('length: ', len(resnet_pred))"
      ],
      "execution_count": 37,
      "outputs": [
        {
          "output_type": "stream",
          "text": [
            "type:  <class 'numpy.ndarray'>\n",
            "length:  500\n"
          ],
          "name": "stdout"
        }
      ]
    },
    {
      "cell_type": "code",
      "metadata": {
        "colab": {
          "base_uri": "https://localhost:8080/"
        },
        "id": "oJUUMAlWaQal",
        "outputId": "37c704f3-0802-443d-f646-7eacb98db868"
      },
      "source": [
        "for out in vgg16_pred[:5]:\n",
        "  if out.argmax() == 0:\n",
        "    print('Positive')\n",
        "  else:\n",
        "    print('Negative')"
      ],
      "execution_count": 46,
      "outputs": [
        {
          "output_type": "stream",
          "text": [
            "Positive\n",
            "Positive\n",
            "Positive\n",
            "Positive\n",
            "Positive\n"
          ],
          "name": "stdout"
        }
      ]
    },
    {
      "cell_type": "code",
      "metadata": {
        "colab": {
          "base_uri": "https://localhost:8080/"
        },
        "id": "r49phNhQaQal",
        "outputId": "8a9360a8-4d4a-465a-9353-ee8a230e20f1"
      },
      "source": [
        "for out in resnet_pred[:5]:\n",
        "  if out.argmax() == 0:\n",
        "    print('Positive')\n",
        "  else:\n",
        "    print('Negative')"
      ],
      "execution_count": 42,
      "outputs": [
        {
          "output_type": "stream",
          "text": [
            "Positive\n",
            "Positive\n",
            "Positive\n",
            "Positive\n",
            "Positive\n"
          ],
          "name": "stdout"
        }
      ]
    },
    {
      "cell_type": "markdown",
      "metadata": {
        "id": "N4s8pqQLaQal"
      },
      "source": [
        "  "
      ]
    },
    {
      "cell_type": "markdown",
      "metadata": {
        "button": false,
        "new_sheet": false,
        "run_control": {
          "read_only": false
        },
        "id": "gH8P4053aQam"
      },
      "source": [
        "### Thank you for completing this lab!\n",
        "\n",
        "This notebook was created by Alex Aklson."
      ]
    },
    {
      "cell_type": "markdown",
      "metadata": {
        "button": false,
        "new_sheet": false,
        "run_control": {
          "read_only": false
        },
        "id": "LSetkFYvaQan"
      },
      "source": [
        "This notebook is part of a course on **Coursera** called *AI Capstone Project with Deep Learning*. If you accessed this notebook outside the course, you can take this course online by clicking [here](https://cocl.us/DL0321EN_Coursera_Week4_LAB1)."
      ]
    },
    {
      "cell_type": "markdown",
      "metadata": {
        "button": false,
        "new_sheet": false,
        "run_control": {
          "read_only": false
        },
        "id": "PiR1EC4aaQao"
      },
      "source": [
        "<hr>\n",
        "\n",
        "Copyright &copy; 2020 [IBM Developer Skills Network](https://cognitiveclass.ai/?utm_source=bducopyrightlink&utm_medium=dswb&utm_campaign=bdu). This notebook and its source code are released under the terms of the [MIT License](https://bigdatauniversity.com/mit-license/)."
      ]
    }
  ]
}